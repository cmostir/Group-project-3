{
  "nbformat": 4,
  "nbformat_minor": 0,
  "metadata": {
    "colab": {
      "name": "Copy of Groupproject30.ipynb",
      "provenance": [],
      "authorship_tag": "ABX9TyMtCwKTkkV16pRQ0oPbYf2s",
      "include_colab_link": true
    },
    "kernelspec": {
      "name": "python3",
      "display_name": "Python 3"
    }
  },
  "cells": [
    {
      "cell_type": "markdown",
      "metadata": {
        "id": "view-in-github",
        "colab_type": "text"
      },
      "source": [
        "<a href=\"https://colab.research.google.com/github/cmostir/Group-project-3/blob/main/Copy_of_Groupproject30.ipynb\" target=\"_parent\"><img src=\"https://colab.research.google.com/assets/colab-badge.svg\" alt=\"Open In Colab\"/></a>"
      ]
    },
    {
      "cell_type": "code",
      "metadata": {
        "id": "yNKbD-eaxqVP",
        "colab": {
          "base_uri": "https://localhost:8080/"
        },
        "outputId": "27bf36a5-3468-47b3-8ab6-63ce27e8378d"
      },
      "source": [
        "%load_ext sql"
      ],
      "execution_count": null,
      "outputs": [
        {
          "output_type": "stream",
          "text": [
            "The sql extension is already loaded. To reload it, use:\n",
            "  %reload_ext sql\n"
          ],
          "name": "stdout"
        }
      ]
    },
    {
      "cell_type": "code",
      "metadata": {
        "colab": {
          "base_uri": "https://localhost:8080/",
          "height": 35
        },
        "id": "3fRyJ3u4xxBc",
        "outputId": "37b4fab4-216b-418d-a998-49450d347854"
      },
      "source": [
        "%sql sqlite:///restaurantDatabase.db"
      ],
      "execution_count": null,
      "outputs": [
        {
          "output_type": "execute_result",
          "data": {
            "application/vnd.google.colaboratory.intrinsic+json": {
              "type": "string"
            },
            "text/plain": [
              "'Connected: @restaurantDatabase.db'"
            ]
          },
          "metadata": {
            "tags": []
          },
          "execution_count": 19
        }
      ]
    },
    {
      "cell_type": "code",
      "metadata": {
        "colab": {
          "base_uri": "https://localhost:8080/"
        },
        "id": "iVqA0ySTx6W2",
        "outputId": "0758872f-d857-4088-ab5f-bcf80d57be15"
      },
      "source": [
        "%%sql\n",
        "CREATE TABLE Food(FOODID text primary key, Foodtype text, price integer, Serving integer, availabilty text, accomadations text);"
      ],
      "execution_count": null,
      "outputs": [
        {
          "output_type": "stream",
          "text": [
            " * sqlite:///restaurantDatabase.db\n",
            "Done.\n"
          ],
          "name": "stdout"
        },
        {
          "output_type": "execute_result",
          "data": {
            "text/plain": [
              "[]"
            ]
          },
          "metadata": {
            "tags": []
          },
          "execution_count": 25
        }
      ]
    },
    {
      "cell_type": "code",
      "metadata": {
        "id": "kX4F08tA-fvK",
        "colab": {
          "base_uri": "https://localhost:8080/"
        },
        "outputId": "6993085b-5714-4ac5-b23c-513d1d9c5e30"
      },
      "source": [
        "%%sql\n",
        "INSERT INTO Food VALUES('111','Wings',5,1,'In-stock','Ranch');\n",
        "INSERT INTO Food VALUES('222','Macaroni',7,1,'Out of Stock','None');\n",
        "INSERT INTO Food VALUES('333','Cheese Burger',6,1,'In-stock','American Cheese');\n",
        "INSERT INTO Food VALUES('444','Fries',2,1,'In-stock','none');\n",
        "INSERT INTO Food VALUES('555','Onion Rings',1,1,'In-Stock','Ketchup');"
      ],
      "execution_count": null,
      "outputs": [
        {
          "output_type": "stream",
          "text": [
            " * sqlite:///restaurantDatabase.db\n",
            "1 rows affected.\n",
            "1 rows affected.\n",
            "1 rows affected.\n",
            "1 rows affected.\n",
            "1 rows affected.\n"
          ],
          "name": "stdout"
        },
        {
          "output_type": "execute_result",
          "data": {
            "text/plain": [
              "[]"
            ]
          },
          "metadata": {
            "tags": []
          },
          "execution_count": 26
        }
      ]
    },
    {
      "cell_type": "code",
      "metadata": {
        "id": "TMnFIJsJ3mxa",
        "colab": {
          "base_uri": "https://localhost:8080/"
        },
        "outputId": "5f4275c2-5ecf-4b13-8b96-5f5adf800eea"
      },
      "source": [
        "%%sql\n",
        "CREATE TABLE Kitchen(STAFFID text primary key, Firstname text, Lastname text, email text, Position text);"
      ],
      "execution_count": null,
      "outputs": [
        {
          "output_type": "stream",
          "text": [
            " * sqlite:///restaurantDatabase.db\n",
            "Done.\n"
          ],
          "name": "stdout"
        },
        {
          "output_type": "execute_result",
          "data": {
            "text/plain": [
              "[]"
            ]
          },
          "metadata": {
            "tags": []
          },
          "execution_count": 31
        }
      ]
    },
    {
      "cell_type": "code",
      "metadata": {
        "id": "hXEPlTZkClmh",
        "colab": {
          "base_uri": "https://localhost:8080/"
        },
        "outputId": "aef7e21e-cb07-470f-c6bd-3a2648843ee2"
      },
      "source": [
        "%%sql\n",
        "INSERT INTO Kitchen VALUES('555','John','Doe','johndoe@yoohoo.com','Chef');\n",
        "INSERT INTO Kitchen VALUES('556','Karen','Bye','ByeKaren@yoohoo.com','Assistant Chef');\n",
        "INSERT INTO Kitchen VALUES('557','Bryce','Pot','BRYCEpot@yoohoo.com','BusBoy');\n",
        "INSERT INTO Kitchen VALUES('558','Tina','Fly','Flyerfan@yoohoo.com','Waitress');\n",
        "INSERT INTO Kitchen VALUES('559','Todd','Ops','OPS@yoohoo.com','DeliveryDriver');"
      ],
      "execution_count": null,
      "outputs": [
        {
          "output_type": "stream",
          "text": [
            " * sqlite:///restaurantDatabase.db\n",
            "1 rows affected.\n",
            "1 rows affected.\n",
            "1 rows affected.\n",
            "1 rows affected.\n",
            "1 rows affected.\n"
          ],
          "name": "stdout"
        },
        {
          "output_type": "execute_result",
          "data": {
            "text/plain": [
              "[]"
            ]
          },
          "metadata": {
            "tags": []
          },
          "execution_count": 32
        }
      ]
    },
    {
      "cell_type": "code",
      "metadata": {
        "colab": {
          "base_uri": "https://localhost:8080/"
        },
        "id": "WbFq2dPI30WI",
        "outputId": "453324cc-7562-462f-eb6c-aed23ca8eb4a"
      },
      "source": [
        "%%sql\n",
        "CREATE TABLE Customers(CUSTOMERID text primary key, Firstname text, Lastname text, email text, ORDERNUMBER text);\n"
      ],
      "execution_count": null,
      "outputs": [
        {
          "output_type": "stream",
          "text": [
            " * sqlite:///restaurantDatabase.db\n",
            "Done.\n"
          ],
          "name": "stdout"
        },
        {
          "output_type": "execute_result",
          "data": {
            "text/plain": [
              "[]"
            ]
          },
          "metadata": {
            "tags": []
          },
          "execution_count": 6
        }
      ]
    },
    {
      "cell_type": "code",
      "metadata": {
        "colab": {
          "base_uri": "https://localhost:8080/"
        },
        "id": "cTE2H0ONEf_G",
        "outputId": "9136b9f8-da78-48fe-bb33-831a51098cd4"
      },
      "source": [
        "%%sql\n",
        "INSERT INTO Customers VALUES('476','Tyler','Jones','tj@yoohoo.com','01');\n",
        "INSERT INTO Customers VALUES('477','Nick','Goo','NG@yoohoo.com','02');\n",
        "INSERT INTO Customers VALUES('478','Jackie','State','JS@yoohoo.com','03');\n",
        "INSERT INTO Customers VALUES('479','Brie','Coutny','BS@yoohoo.com','04');\n",
        "INSERT INTO Customers VALUES('480','Jack','Town','JT@yoohoo.com','05');"
      ],
      "execution_count": null,
      "outputs": [
        {
          "output_type": "stream",
          "text": [
            " * sqlite:///restaurantDatabase.db\n",
            "1 rows affected.\n",
            "1 rows affected.\n",
            "1 rows affected.\n",
            "1 rows affected.\n",
            "1 rows affected.\n"
          ],
          "name": "stdout"
        },
        {
          "output_type": "execute_result",
          "data": {
            "text/plain": [
              "[]"
            ]
          },
          "metadata": {
            "tags": []
          },
          "execution_count": 7
        }
      ]
    },
    {
      "cell_type": "code",
      "metadata": {
        "id": "5ThLi3J-31qb"
      },
      "source": [
        "%%sql\n",
        "CREATE TABLE Orders(ORDERNUMBER text primary key, NumberofItems integer, Ordertime text, OrderFilled text, CUSTOMERID integer);"
      ],
      "execution_count": null,
      "outputs": []
    },
    {
      "cell_type": "code",
      "metadata": {
        "id": "4e9EtkpJH4Ka"
      },
      "source": [
        "%%sql\n",
        "INSERT INTO Orders VALUES('01',4,'4:50','5:25','476');\n",
        "INSERT INTO Orders VALUES('02',6,'2:33','3:00','477');\n",
        "INSERT INTO Orders VALUES('03',12,'1:30','2:45','478');\n",
        "INSERT INTO Orders VALUES('04',40,'12:45','1:50','479');\n",
        "INSERT INTO Orders VALUES('05',1,'6:40','6:50','480');"
      ],
      "execution_count": null,
      "outputs": []
    },
    {
      "cell_type": "code",
      "metadata": {
        "id": "UF3KfJ1-370j",
        "colab": {
          "base_uri": "https://localhost:8080/"
        },
        "outputId": "5a4417f7-bf59-451f-b2f3-2ba558657a3a"
      },
      "source": [
        "%%sql\n",
        "CREATE TABLE Deliveries(DeliveryNumber text primary key, CUSTOMERID text, phonenumber text, DeliveryTime real, DeliverySevrice text);"
      ],
      "execution_count": null,
      "outputs": [
        {
          "output_type": "stream",
          "text": [
            " * sqlite:///restaurantDatabase.db\n",
            "(sqlite3.OperationalError) table Deliveries already exists\n",
            "[SQL: CREATE TABLE Deliveries(DeliveryNumber text primary key, CUSTOMERID text, phonenumber text, DeliveryTime real, DeliverySevrice text);]\n",
            "(Background on this error at: http://sqlalche.me/e/13/e3q8)\n"
          ],
          "name": "stdout"
        }
      ]
    },
    {
      "cell_type": "code",
      "metadata": {
        "id": "nac8e5G5MZ71",
        "colab": {
          "base_uri": "https://localhost:8080/",
          "height": 544
        },
        "outputId": "247ca3c4-3ac0-48c9-af50-fed0611cb7c9"
      },
      "source": [
        "%%sql\n",
        "INSERT INTO Deliveries VALUES('10','476','555-555-5555',\"5:30\",'GrubHub');\n",
        "INSERT INTO Deliveries VALUES('11','477','555-555-5554',\"3:30\",'DoorDash');\n",
        "INSERT INTO Deliveries VALUES('12','478','555-555-5559',\"3:00\",'UberEats');\n",
        "INSERT INTO Deliveries VALUES('13','479','555-555-5558',\"2:00\",'Pick-up');\n",
        "INSERT INTO Deliveries VALUES('14','480','555-555-5553',\"7:00\",'DoorDash');"
      ],
      "execution_count": null,
      "outputs": [
        {
          "output_type": "stream",
          "text": [
            " * sqlite:///restaurantDatabase.db\n"
          ],
          "name": "stdout"
        },
        {
          "output_type": "error",
          "ename": "IntegrityError",
          "evalue": "ignored",
          "traceback": [
            "\u001b[0;31m---------------------------------------------------------------------------\u001b[0m",
            "\u001b[0;31mIntegrityError\u001b[0m                            Traceback (most recent call last)",
            "\u001b[0;32m/usr/local/lib/python3.6/dist-packages/sqlalchemy/engine/base.py\u001b[0m in \u001b[0;36m_execute_context\u001b[0;34m(self, dialect, constructor, statement, parameters, *args)\u001b[0m\n\u001b[1;32m   1276\u001b[0m                     self.dialect.do_execute(\n\u001b[0;32m-> 1277\u001b[0;31m                         \u001b[0mcursor\u001b[0m\u001b[0;34m,\u001b[0m \u001b[0mstatement\u001b[0m\u001b[0;34m,\u001b[0m \u001b[0mparameters\u001b[0m\u001b[0;34m,\u001b[0m \u001b[0mcontext\u001b[0m\u001b[0;34m\u001b[0m\u001b[0;34m\u001b[0m\u001b[0m\n\u001b[0m\u001b[1;32m   1278\u001b[0m                     )\n",
            "\u001b[0;32m/usr/local/lib/python3.6/dist-packages/sqlalchemy/engine/default.py\u001b[0m in \u001b[0;36mdo_execute\u001b[0;34m(self, cursor, statement, parameters, context)\u001b[0m\n\u001b[1;32m    592\u001b[0m     \u001b[0;32mdef\u001b[0m \u001b[0mdo_execute\u001b[0m\u001b[0;34m(\u001b[0m\u001b[0mself\u001b[0m\u001b[0;34m,\u001b[0m \u001b[0mcursor\u001b[0m\u001b[0;34m,\u001b[0m \u001b[0mstatement\u001b[0m\u001b[0;34m,\u001b[0m \u001b[0mparameters\u001b[0m\u001b[0;34m,\u001b[0m \u001b[0mcontext\u001b[0m\u001b[0;34m=\u001b[0m\u001b[0;32mNone\u001b[0m\u001b[0;34m)\u001b[0m\u001b[0;34m:\u001b[0m\u001b[0;34m\u001b[0m\u001b[0;34m\u001b[0m\u001b[0m\n\u001b[0;32m--> 593\u001b[0;31m         \u001b[0mcursor\u001b[0m\u001b[0;34m.\u001b[0m\u001b[0mexecute\u001b[0m\u001b[0;34m(\u001b[0m\u001b[0mstatement\u001b[0m\u001b[0;34m,\u001b[0m \u001b[0mparameters\u001b[0m\u001b[0;34m)\u001b[0m\u001b[0;34m\u001b[0m\u001b[0;34m\u001b[0m\u001b[0m\n\u001b[0m\u001b[1;32m    594\u001b[0m \u001b[0;34m\u001b[0m\u001b[0m\n",
            "\u001b[0;31mIntegrityError\u001b[0m: UNIQUE constraint failed: Deliveries.DeliveryNumber",
            "\nThe above exception was the direct cause of the following exception:\n",
            "\u001b[0;31mIntegrityError\u001b[0m                            Traceback (most recent call last)",
            "\u001b[0;32m<ipython-input-21-b0d0733a5a67>\u001b[0m in \u001b[0;36m<module>\u001b[0;34m()\u001b[0m\n\u001b[0;32m----> 1\u001b[0;31m \u001b[0mget_ipython\u001b[0m\u001b[0;34m(\u001b[0m\u001b[0;34m)\u001b[0m\u001b[0;34m.\u001b[0m\u001b[0mrun_cell_magic\u001b[0m\u001b[0;34m(\u001b[0m\u001b[0;34m'sql'\u001b[0m\u001b[0;34m,\u001b[0m \u001b[0;34m''\u001b[0m\u001b[0;34m,\u001b[0m \u001b[0;34m'INSERT INTO Deliveries VALUES(\\'10\\',\\'476\\',\\'555-555-5555\\',\"5:30\",\\'GrubHub\\');\\nINSERT INTO Deliveries VALUES(\\'11\\',\\'477\\',\\'555-555-5554\\',\"3:30\",\\'DoorDash\\');\\nINSERT INTO Deliveries VALUES(\\'12\\',\\'478\\',\\'555-555-5559\\',\"3:00\",\\'UberEats\\');\\nINSERT INTO Deliveries VALUES(\\'13\\',\\'479\\',\\'555-555-5558\\',\"2:00\",\\'Pick-up\\');\\nINSERT INTO Deliveries VALUES(\\'14\\',\\'480\\',\\'555-555-5553\\',\"7:00\",\\'DoorDash\\');'\u001b[0m\u001b[0;34m)\u001b[0m\u001b[0;34m\u001b[0m\u001b[0;34m\u001b[0m\u001b[0m\n\u001b[0m",
            "\u001b[0;32m/usr/local/lib/python3.6/dist-packages/IPython/core/interactiveshell.py\u001b[0m in \u001b[0;36mrun_cell_magic\u001b[0;34m(self, magic_name, line, cell)\u001b[0m\n\u001b[1;32m   2115\u001b[0m             \u001b[0mmagic_arg_s\u001b[0m \u001b[0;34m=\u001b[0m \u001b[0mself\u001b[0m\u001b[0;34m.\u001b[0m\u001b[0mvar_expand\u001b[0m\u001b[0;34m(\u001b[0m\u001b[0mline\u001b[0m\u001b[0;34m,\u001b[0m \u001b[0mstack_depth\u001b[0m\u001b[0;34m)\u001b[0m\u001b[0;34m\u001b[0m\u001b[0;34m\u001b[0m\u001b[0m\n\u001b[1;32m   2116\u001b[0m             \u001b[0;32mwith\u001b[0m \u001b[0mself\u001b[0m\u001b[0;34m.\u001b[0m\u001b[0mbuiltin_trap\u001b[0m\u001b[0;34m:\u001b[0m\u001b[0;34m\u001b[0m\u001b[0;34m\u001b[0m\u001b[0m\n\u001b[0;32m-> 2117\u001b[0;31m                 \u001b[0mresult\u001b[0m \u001b[0;34m=\u001b[0m \u001b[0mfn\u001b[0m\u001b[0;34m(\u001b[0m\u001b[0mmagic_arg_s\u001b[0m\u001b[0;34m,\u001b[0m \u001b[0mcell\u001b[0m\u001b[0;34m)\u001b[0m\u001b[0;34m\u001b[0m\u001b[0;34m\u001b[0m\u001b[0m\n\u001b[0m\u001b[1;32m   2118\u001b[0m             \u001b[0;32mreturn\u001b[0m \u001b[0mresult\u001b[0m\u001b[0;34m\u001b[0m\u001b[0;34m\u001b[0m\u001b[0m\n\u001b[1;32m   2119\u001b[0m \u001b[0;34m\u001b[0m\u001b[0m\n",
            "\u001b[0;32m<decorator-gen-125>\u001b[0m in \u001b[0;36mexecute\u001b[0;34m(self, line, cell, local_ns)\u001b[0m\n",
            "\u001b[0;32m/usr/local/lib/python3.6/dist-packages/IPython/core/magic.py\u001b[0m in \u001b[0;36m<lambda>\u001b[0;34m(f, *a, **k)\u001b[0m\n\u001b[1;32m    186\u001b[0m     \u001b[0;31m# but it's overkill for just that one bit of state.\u001b[0m\u001b[0;34m\u001b[0m\u001b[0;34m\u001b[0m\u001b[0;34m\u001b[0m\u001b[0m\n\u001b[1;32m    187\u001b[0m     \u001b[0;32mdef\u001b[0m \u001b[0mmagic_deco\u001b[0m\u001b[0;34m(\u001b[0m\u001b[0marg\u001b[0m\u001b[0;34m)\u001b[0m\u001b[0;34m:\u001b[0m\u001b[0;34m\u001b[0m\u001b[0;34m\u001b[0m\u001b[0m\n\u001b[0;32m--> 188\u001b[0;31m         \u001b[0mcall\u001b[0m \u001b[0;34m=\u001b[0m \u001b[0;32mlambda\u001b[0m \u001b[0mf\u001b[0m\u001b[0;34m,\u001b[0m \u001b[0;34m*\u001b[0m\u001b[0ma\u001b[0m\u001b[0;34m,\u001b[0m \u001b[0;34m**\u001b[0m\u001b[0mk\u001b[0m\u001b[0;34m:\u001b[0m \u001b[0mf\u001b[0m\u001b[0;34m(\u001b[0m\u001b[0;34m*\u001b[0m\u001b[0ma\u001b[0m\u001b[0;34m,\u001b[0m \u001b[0;34m**\u001b[0m\u001b[0mk\u001b[0m\u001b[0;34m)\u001b[0m\u001b[0;34m\u001b[0m\u001b[0;34m\u001b[0m\u001b[0m\n\u001b[0m\u001b[1;32m    189\u001b[0m \u001b[0;34m\u001b[0m\u001b[0m\n\u001b[1;32m    190\u001b[0m         \u001b[0;32mif\u001b[0m \u001b[0mcallable\u001b[0m\u001b[0;34m(\u001b[0m\u001b[0marg\u001b[0m\u001b[0;34m)\u001b[0m\u001b[0;34m:\u001b[0m\u001b[0;34m\u001b[0m\u001b[0;34m\u001b[0m\u001b[0m\n",
            "\u001b[0;32m<decorator-gen-124>\u001b[0m in \u001b[0;36mexecute\u001b[0;34m(self, line, cell, local_ns)\u001b[0m\n",
            "\u001b[0;32m/usr/local/lib/python3.6/dist-packages/IPython/core/magic.py\u001b[0m in \u001b[0;36m<lambda>\u001b[0;34m(f, *a, **k)\u001b[0m\n\u001b[1;32m    186\u001b[0m     \u001b[0;31m# but it's overkill for just that one bit of state.\u001b[0m\u001b[0;34m\u001b[0m\u001b[0;34m\u001b[0m\u001b[0;34m\u001b[0m\u001b[0m\n\u001b[1;32m    187\u001b[0m     \u001b[0;32mdef\u001b[0m \u001b[0mmagic_deco\u001b[0m\u001b[0;34m(\u001b[0m\u001b[0marg\u001b[0m\u001b[0;34m)\u001b[0m\u001b[0;34m:\u001b[0m\u001b[0;34m\u001b[0m\u001b[0;34m\u001b[0m\u001b[0m\n\u001b[0;32m--> 188\u001b[0;31m         \u001b[0mcall\u001b[0m \u001b[0;34m=\u001b[0m \u001b[0;32mlambda\u001b[0m \u001b[0mf\u001b[0m\u001b[0;34m,\u001b[0m \u001b[0;34m*\u001b[0m\u001b[0ma\u001b[0m\u001b[0;34m,\u001b[0m \u001b[0;34m**\u001b[0m\u001b[0mk\u001b[0m\u001b[0;34m:\u001b[0m \u001b[0mf\u001b[0m\u001b[0;34m(\u001b[0m\u001b[0;34m*\u001b[0m\u001b[0ma\u001b[0m\u001b[0;34m,\u001b[0m \u001b[0;34m**\u001b[0m\u001b[0mk\u001b[0m\u001b[0;34m)\u001b[0m\u001b[0;34m\u001b[0m\u001b[0;34m\u001b[0m\u001b[0m\n\u001b[0m\u001b[1;32m    189\u001b[0m \u001b[0;34m\u001b[0m\u001b[0m\n\u001b[1;32m    190\u001b[0m         \u001b[0;32mif\u001b[0m \u001b[0mcallable\u001b[0m\u001b[0;34m(\u001b[0m\u001b[0marg\u001b[0m\u001b[0;34m)\u001b[0m\u001b[0;34m:\u001b[0m\u001b[0;34m\u001b[0m\u001b[0;34m\u001b[0m\u001b[0m\n",
            "\u001b[0;32m/usr/local/lib/python3.6/dist-packages/sql/magic.py\u001b[0m in \u001b[0;36mexecute\u001b[0;34m(self, line, cell, local_ns)\u001b[0m\n\u001b[1;32m     93\u001b[0m \u001b[0;34m\u001b[0m\u001b[0m\n\u001b[1;32m     94\u001b[0m         \u001b[0;32mtry\u001b[0m\u001b[0;34m:\u001b[0m\u001b[0;34m\u001b[0m\u001b[0;34m\u001b[0m\u001b[0m\n\u001b[0;32m---> 95\u001b[0;31m             \u001b[0mresult\u001b[0m \u001b[0;34m=\u001b[0m \u001b[0msql\u001b[0m\u001b[0;34m.\u001b[0m\u001b[0mrun\u001b[0m\u001b[0;34m.\u001b[0m\u001b[0mrun\u001b[0m\u001b[0;34m(\u001b[0m\u001b[0mconn\u001b[0m\u001b[0;34m,\u001b[0m \u001b[0mparsed\u001b[0m\u001b[0;34m[\u001b[0m\u001b[0;34m'sql'\u001b[0m\u001b[0;34m]\u001b[0m\u001b[0;34m,\u001b[0m \u001b[0mself\u001b[0m\u001b[0;34m,\u001b[0m \u001b[0muser_ns\u001b[0m\u001b[0;34m)\u001b[0m\u001b[0;34m\u001b[0m\u001b[0;34m\u001b[0m\u001b[0m\n\u001b[0m\u001b[1;32m     96\u001b[0m \u001b[0;34m\u001b[0m\u001b[0m\n\u001b[1;32m     97\u001b[0m             \u001b[0;32mif\u001b[0m \u001b[0mresult\u001b[0m \u001b[0;32mis\u001b[0m \u001b[0;32mnot\u001b[0m \u001b[0;32mNone\u001b[0m \u001b[0;32mand\u001b[0m \u001b[0;32mnot\u001b[0m \u001b[0misinstance\u001b[0m\u001b[0;34m(\u001b[0m\u001b[0mresult\u001b[0m\u001b[0;34m,\u001b[0m \u001b[0mstr\u001b[0m\u001b[0;34m)\u001b[0m \u001b[0;32mand\u001b[0m \u001b[0mself\u001b[0m\u001b[0;34m.\u001b[0m\u001b[0mcolumn_local_vars\u001b[0m\u001b[0;34m:\u001b[0m\u001b[0;34m\u001b[0m\u001b[0;34m\u001b[0m\u001b[0m\n",
            "\u001b[0;32m/usr/local/lib/python3.6/dist-packages/sql/run.py\u001b[0m in \u001b[0;36mrun\u001b[0;34m(conn, sql, config, user_namespace)\u001b[0m\n\u001b[1;32m    338\u001b[0m             \u001b[0;32melse\u001b[0m\u001b[0;34m:\u001b[0m\u001b[0;34m\u001b[0m\u001b[0;34m\u001b[0m\u001b[0m\n\u001b[1;32m    339\u001b[0m                 \u001b[0mtxt\u001b[0m \u001b[0;34m=\u001b[0m \u001b[0msqlalchemy\u001b[0m\u001b[0;34m.\u001b[0m\u001b[0msql\u001b[0m\u001b[0;34m.\u001b[0m\u001b[0mtext\u001b[0m\u001b[0;34m(\u001b[0m\u001b[0mstatement\u001b[0m\u001b[0;34m)\u001b[0m\u001b[0;34m\u001b[0m\u001b[0;34m\u001b[0m\u001b[0m\n\u001b[0;32m--> 340\u001b[0;31m                 \u001b[0mresult\u001b[0m \u001b[0;34m=\u001b[0m \u001b[0mconn\u001b[0m\u001b[0;34m.\u001b[0m\u001b[0msession\u001b[0m\u001b[0;34m.\u001b[0m\u001b[0mexecute\u001b[0m\u001b[0;34m(\u001b[0m\u001b[0mtxt\u001b[0m\u001b[0;34m,\u001b[0m \u001b[0muser_namespace\u001b[0m\u001b[0;34m)\u001b[0m\u001b[0;34m\u001b[0m\u001b[0;34m\u001b[0m\u001b[0m\n\u001b[0m\u001b[1;32m    341\u001b[0m             \u001b[0m_commit\u001b[0m\u001b[0;34m(\u001b[0m\u001b[0mconn\u001b[0m\u001b[0;34m=\u001b[0m\u001b[0mconn\u001b[0m\u001b[0;34m,\u001b[0m \u001b[0mconfig\u001b[0m\u001b[0;34m=\u001b[0m\u001b[0mconfig\u001b[0m\u001b[0;34m)\u001b[0m\u001b[0;34m\u001b[0m\u001b[0;34m\u001b[0m\u001b[0m\n\u001b[1;32m    342\u001b[0m             \u001b[0;32mif\u001b[0m \u001b[0mresult\u001b[0m \u001b[0;32mand\u001b[0m \u001b[0mconfig\u001b[0m\u001b[0;34m.\u001b[0m\u001b[0mfeedback\u001b[0m\u001b[0;34m:\u001b[0m\u001b[0;34m\u001b[0m\u001b[0;34m\u001b[0m\u001b[0m\n",
            "\u001b[0;32m/usr/local/lib/python3.6/dist-packages/sqlalchemy/engine/base.py\u001b[0m in \u001b[0;36mexecute\u001b[0;34m(self, object_, *multiparams, **params)\u001b[0m\n\u001b[1;32m   1009\u001b[0m             )\n\u001b[1;32m   1010\u001b[0m         \u001b[0;32melse\u001b[0m\u001b[0;34m:\u001b[0m\u001b[0;34m\u001b[0m\u001b[0;34m\u001b[0m\u001b[0m\n\u001b[0;32m-> 1011\u001b[0;31m             \u001b[0;32mreturn\u001b[0m \u001b[0mmeth\u001b[0m\u001b[0;34m(\u001b[0m\u001b[0mself\u001b[0m\u001b[0;34m,\u001b[0m \u001b[0mmultiparams\u001b[0m\u001b[0;34m,\u001b[0m \u001b[0mparams\u001b[0m\u001b[0;34m)\u001b[0m\u001b[0;34m\u001b[0m\u001b[0;34m\u001b[0m\u001b[0m\n\u001b[0m\u001b[1;32m   1012\u001b[0m \u001b[0;34m\u001b[0m\u001b[0m\n\u001b[1;32m   1013\u001b[0m     \u001b[0;32mdef\u001b[0m \u001b[0m_execute_function\u001b[0m\u001b[0;34m(\u001b[0m\u001b[0mself\u001b[0m\u001b[0;34m,\u001b[0m \u001b[0mfunc\u001b[0m\u001b[0;34m,\u001b[0m \u001b[0mmultiparams\u001b[0m\u001b[0;34m,\u001b[0m \u001b[0mparams\u001b[0m\u001b[0;34m)\u001b[0m\u001b[0;34m:\u001b[0m\u001b[0;34m\u001b[0m\u001b[0;34m\u001b[0m\u001b[0m\n",
            "\u001b[0;32m/usr/local/lib/python3.6/dist-packages/sqlalchemy/sql/elements.py\u001b[0m in \u001b[0;36m_execute_on_connection\u001b[0;34m(self, connection, multiparams, params)\u001b[0m\n\u001b[1;32m    296\u001b[0m     \u001b[0;32mdef\u001b[0m \u001b[0m_execute_on_connection\u001b[0m\u001b[0;34m(\u001b[0m\u001b[0mself\u001b[0m\u001b[0;34m,\u001b[0m \u001b[0mconnection\u001b[0m\u001b[0;34m,\u001b[0m \u001b[0mmultiparams\u001b[0m\u001b[0;34m,\u001b[0m \u001b[0mparams\u001b[0m\u001b[0;34m)\u001b[0m\u001b[0;34m:\u001b[0m\u001b[0;34m\u001b[0m\u001b[0;34m\u001b[0m\u001b[0m\n\u001b[1;32m    297\u001b[0m         \u001b[0;32mif\u001b[0m \u001b[0mself\u001b[0m\u001b[0;34m.\u001b[0m\u001b[0msupports_execution\u001b[0m\u001b[0;34m:\u001b[0m\u001b[0;34m\u001b[0m\u001b[0;34m\u001b[0m\u001b[0m\n\u001b[0;32m--> 298\u001b[0;31m             \u001b[0;32mreturn\u001b[0m \u001b[0mconnection\u001b[0m\u001b[0;34m.\u001b[0m\u001b[0m_execute_clauseelement\u001b[0m\u001b[0;34m(\u001b[0m\u001b[0mself\u001b[0m\u001b[0;34m,\u001b[0m \u001b[0mmultiparams\u001b[0m\u001b[0;34m,\u001b[0m \u001b[0mparams\u001b[0m\u001b[0;34m)\u001b[0m\u001b[0;34m\u001b[0m\u001b[0;34m\u001b[0m\u001b[0m\n\u001b[0m\u001b[1;32m    299\u001b[0m         \u001b[0;32melse\u001b[0m\u001b[0;34m:\u001b[0m\u001b[0;34m\u001b[0m\u001b[0;34m\u001b[0m\u001b[0m\n\u001b[1;32m    300\u001b[0m             \u001b[0;32mraise\u001b[0m \u001b[0mexc\u001b[0m\u001b[0;34m.\u001b[0m\u001b[0mObjectNotExecutableError\u001b[0m\u001b[0;34m(\u001b[0m\u001b[0mself\u001b[0m\u001b[0;34m)\u001b[0m\u001b[0;34m\u001b[0m\u001b[0;34m\u001b[0m\u001b[0m\n",
            "\u001b[0;32m/usr/local/lib/python3.6/dist-packages/sqlalchemy/engine/base.py\u001b[0m in \u001b[0;36m_execute_clauseelement\u001b[0;34m(self, elem, multiparams, params)\u001b[0m\n\u001b[1;32m   1128\u001b[0m             \u001b[0mdistilled_params\u001b[0m\u001b[0;34m,\u001b[0m\u001b[0;34m\u001b[0m\u001b[0;34m\u001b[0m\u001b[0m\n\u001b[1;32m   1129\u001b[0m             \u001b[0mcompiled_sql\u001b[0m\u001b[0;34m,\u001b[0m\u001b[0;34m\u001b[0m\u001b[0;34m\u001b[0m\u001b[0m\n\u001b[0;32m-> 1130\u001b[0;31m             \u001b[0mdistilled_params\u001b[0m\u001b[0;34m,\u001b[0m\u001b[0;34m\u001b[0m\u001b[0;34m\u001b[0m\u001b[0m\n\u001b[0m\u001b[1;32m   1131\u001b[0m         )\n\u001b[1;32m   1132\u001b[0m         \u001b[0;32mif\u001b[0m \u001b[0mself\u001b[0m\u001b[0;34m.\u001b[0m\u001b[0m_has_events\u001b[0m \u001b[0;32mor\u001b[0m \u001b[0mself\u001b[0m\u001b[0;34m.\u001b[0m\u001b[0mengine\u001b[0m\u001b[0;34m.\u001b[0m\u001b[0m_has_events\u001b[0m\u001b[0;34m:\u001b[0m\u001b[0;34m\u001b[0m\u001b[0;34m\u001b[0m\u001b[0m\n",
            "\u001b[0;32m/usr/local/lib/python3.6/dist-packages/sqlalchemy/engine/base.py\u001b[0m in \u001b[0;36m_execute_context\u001b[0;34m(self, dialect, constructor, statement, parameters, *args)\u001b[0m\n\u001b[1;32m   1315\u001b[0m         \u001b[0;32mexcept\u001b[0m \u001b[0mBaseException\u001b[0m \u001b[0;32mas\u001b[0m \u001b[0me\u001b[0m\u001b[0;34m:\u001b[0m\u001b[0;34m\u001b[0m\u001b[0;34m\u001b[0m\u001b[0m\n\u001b[1;32m   1316\u001b[0m             self._handle_dbapi_exception(\n\u001b[0;32m-> 1317\u001b[0;31m                 \u001b[0me\u001b[0m\u001b[0;34m,\u001b[0m \u001b[0mstatement\u001b[0m\u001b[0;34m,\u001b[0m \u001b[0mparameters\u001b[0m\u001b[0;34m,\u001b[0m \u001b[0mcursor\u001b[0m\u001b[0;34m,\u001b[0m \u001b[0mcontext\u001b[0m\u001b[0;34m\u001b[0m\u001b[0;34m\u001b[0m\u001b[0m\n\u001b[0m\u001b[1;32m   1318\u001b[0m             )\n\u001b[1;32m   1319\u001b[0m \u001b[0;34m\u001b[0m\u001b[0m\n",
            "\u001b[0;32m/usr/local/lib/python3.6/dist-packages/sqlalchemy/engine/base.py\u001b[0m in \u001b[0;36m_handle_dbapi_exception\u001b[0;34m(self, e, statement, parameters, cursor, context)\u001b[0m\n\u001b[1;32m   1509\u001b[0m             \u001b[0;32melif\u001b[0m \u001b[0mshould_wrap\u001b[0m\u001b[0;34m:\u001b[0m\u001b[0;34m\u001b[0m\u001b[0;34m\u001b[0m\u001b[0m\n\u001b[1;32m   1510\u001b[0m                 util.raise_(\n\u001b[0;32m-> 1511\u001b[0;31m                     \u001b[0msqlalchemy_exception\u001b[0m\u001b[0;34m,\u001b[0m \u001b[0mwith_traceback\u001b[0m\u001b[0;34m=\u001b[0m\u001b[0mexc_info\u001b[0m\u001b[0;34m[\u001b[0m\u001b[0;36m2\u001b[0m\u001b[0;34m]\u001b[0m\u001b[0;34m,\u001b[0m \u001b[0mfrom_\u001b[0m\u001b[0;34m=\u001b[0m\u001b[0me\u001b[0m\u001b[0;34m\u001b[0m\u001b[0;34m\u001b[0m\u001b[0m\n\u001b[0m\u001b[1;32m   1512\u001b[0m                 )\n\u001b[1;32m   1513\u001b[0m             \u001b[0;32melse\u001b[0m\u001b[0;34m:\u001b[0m\u001b[0;34m\u001b[0m\u001b[0;34m\u001b[0m\u001b[0m\n",
            "\u001b[0;32m/usr/local/lib/python3.6/dist-packages/sqlalchemy/util/compat.py\u001b[0m in \u001b[0;36mraise_\u001b[0;34m(***failed resolving arguments***)\u001b[0m\n\u001b[1;32m    180\u001b[0m \u001b[0;34m\u001b[0m\u001b[0m\n\u001b[1;32m    181\u001b[0m         \u001b[0;32mtry\u001b[0m\u001b[0;34m:\u001b[0m\u001b[0;34m\u001b[0m\u001b[0;34m\u001b[0m\u001b[0m\n\u001b[0;32m--> 182\u001b[0;31m             \u001b[0;32mraise\u001b[0m \u001b[0mexception\u001b[0m\u001b[0;34m\u001b[0m\u001b[0;34m\u001b[0m\u001b[0m\n\u001b[0m\u001b[1;32m    183\u001b[0m         \u001b[0;32mfinally\u001b[0m\u001b[0;34m:\u001b[0m\u001b[0;34m\u001b[0m\u001b[0;34m\u001b[0m\u001b[0m\n\u001b[1;32m    184\u001b[0m             \u001b[0;31m# credit to\u001b[0m\u001b[0;34m\u001b[0m\u001b[0;34m\u001b[0m\u001b[0;34m\u001b[0m\u001b[0m\n",
            "\u001b[0;32m/usr/local/lib/python3.6/dist-packages/sqlalchemy/engine/base.py\u001b[0m in \u001b[0;36m_execute_context\u001b[0;34m(self, dialect, constructor, statement, parameters, *args)\u001b[0m\n\u001b[1;32m   1275\u001b[0m                 \u001b[0;32mif\u001b[0m \u001b[0;32mnot\u001b[0m \u001b[0mevt_handled\u001b[0m\u001b[0;34m:\u001b[0m\u001b[0;34m\u001b[0m\u001b[0;34m\u001b[0m\u001b[0m\n\u001b[1;32m   1276\u001b[0m                     self.dialect.do_execute(\n\u001b[0;32m-> 1277\u001b[0;31m                         \u001b[0mcursor\u001b[0m\u001b[0;34m,\u001b[0m \u001b[0mstatement\u001b[0m\u001b[0;34m,\u001b[0m \u001b[0mparameters\u001b[0m\u001b[0;34m,\u001b[0m \u001b[0mcontext\u001b[0m\u001b[0;34m\u001b[0m\u001b[0;34m\u001b[0m\u001b[0m\n\u001b[0m\u001b[1;32m   1278\u001b[0m                     )\n\u001b[1;32m   1279\u001b[0m \u001b[0;34m\u001b[0m\u001b[0m\n",
            "\u001b[0;32m/usr/local/lib/python3.6/dist-packages/sqlalchemy/engine/default.py\u001b[0m in \u001b[0;36mdo_execute\u001b[0;34m(self, cursor, statement, parameters, context)\u001b[0m\n\u001b[1;32m    591\u001b[0m \u001b[0;34m\u001b[0m\u001b[0m\n\u001b[1;32m    592\u001b[0m     \u001b[0;32mdef\u001b[0m \u001b[0mdo_execute\u001b[0m\u001b[0;34m(\u001b[0m\u001b[0mself\u001b[0m\u001b[0;34m,\u001b[0m \u001b[0mcursor\u001b[0m\u001b[0;34m,\u001b[0m \u001b[0mstatement\u001b[0m\u001b[0;34m,\u001b[0m \u001b[0mparameters\u001b[0m\u001b[0;34m,\u001b[0m \u001b[0mcontext\u001b[0m\u001b[0;34m=\u001b[0m\u001b[0;32mNone\u001b[0m\u001b[0;34m)\u001b[0m\u001b[0;34m:\u001b[0m\u001b[0;34m\u001b[0m\u001b[0;34m\u001b[0m\u001b[0m\n\u001b[0;32m--> 593\u001b[0;31m         \u001b[0mcursor\u001b[0m\u001b[0;34m.\u001b[0m\u001b[0mexecute\u001b[0m\u001b[0;34m(\u001b[0m\u001b[0mstatement\u001b[0m\u001b[0;34m,\u001b[0m \u001b[0mparameters\u001b[0m\u001b[0;34m)\u001b[0m\u001b[0;34m\u001b[0m\u001b[0;34m\u001b[0m\u001b[0m\n\u001b[0m\u001b[1;32m    594\u001b[0m \u001b[0;34m\u001b[0m\u001b[0m\n\u001b[1;32m    595\u001b[0m     \u001b[0;32mdef\u001b[0m \u001b[0mdo_execute_no_params\u001b[0m\u001b[0;34m(\u001b[0m\u001b[0mself\u001b[0m\u001b[0;34m,\u001b[0m \u001b[0mcursor\u001b[0m\u001b[0;34m,\u001b[0m \u001b[0mstatement\u001b[0m\u001b[0;34m,\u001b[0m \u001b[0mcontext\u001b[0m\u001b[0;34m=\u001b[0m\u001b[0;32mNone\u001b[0m\u001b[0;34m)\u001b[0m\u001b[0;34m:\u001b[0m\u001b[0;34m\u001b[0m\u001b[0;34m\u001b[0m\u001b[0m\n",
            "\u001b[0;31mIntegrityError\u001b[0m: (sqlite3.IntegrityError) UNIQUE constraint failed: Deliveries.DeliveryNumber\n[SQL: INSERT INTO Deliveries VALUES('10','476','555-555-5555',\"5:30\",'GrubHub');]\n(Background on this error at: http://sqlalche.me/e/13/gkpj)"
          ]
        }
      ]
    },
    {
      "cell_type": "code",
      "metadata": {
        "id": "94IIVZ1Q374V",
        "colab": {
          "base_uri": "https://localhost:8080/"
        },
        "outputId": "802c4bc1-75e7-4fb1-9556-e9c9976bd27a"
      },
      "source": [
        "%%sql\n",
        "CREATE TABLE Paymentmethods(PaymentMethod text primary key, Total Price real, CUSTOMERID text , ORDERNUMBER text, DeliveryNumber text);"
      ],
      "execution_count": null,
      "outputs": [
        {
          "output_type": "stream",
          "text": [
            " * sqlite:///restaurantDatabase.db\n",
            "Done.\n"
          ],
          "name": "stdout"
        },
        {
          "output_type": "execute_result",
          "data": {
            "text/plain": [
              "[]"
            ]
          },
          "metadata": {
            "tags": []
          },
          "execution_count": 55
        }
      ]
    },
    {
      "cell_type": "code",
      "metadata": {
        "id": "eH_qZpW55eFK",
        "colab": {
          "base_uri": "https://localhost:8080/",
          "height": 578
        },
        "outputId": "3d875343-158b-4fc6-ad14-82460602fb31"
      },
      "source": [
        "%%sql\n",
        "INSERT INTO Paymentmethods VALUES('Card',8,'476','01','10');\n",
        "INSERT INTO Paymentmethods VALUES('Cash',45,'477','02','11');\n",
        "INSERT INTO Paymentmethods VALUES('Card',100,'478','03','12');\n",
        "INSERT INTO Paymentmethods VALUES('Card',32,'479','04','13');\n",
        "INSERT INTO Paymentmethods VALUES('Cash',2,'480','05','14');"
      ],
      "execution_count": null,
      "outputs": [
        {
          "output_type": "stream",
          "text": [
            " * sqlite:///restaurantDatabase.db\n",
            "1 rows affected.\n",
            "1 rows affected.\n"
          ],
          "name": "stdout"
        },
        {
          "output_type": "error",
          "ename": "IntegrityError",
          "evalue": "ignored",
          "traceback": [
            "\u001b[0;31m---------------------------------------------------------------------------\u001b[0m",
            "\u001b[0;31mIntegrityError\u001b[0m                            Traceback (most recent call last)",
            "\u001b[0;32m/usr/local/lib/python3.6/dist-packages/sqlalchemy/engine/base.py\u001b[0m in \u001b[0;36m_execute_context\u001b[0;34m(self, dialect, constructor, statement, parameters, *args)\u001b[0m\n\u001b[1;32m   1276\u001b[0m                     self.dialect.do_execute(\n\u001b[0;32m-> 1277\u001b[0;31m                         \u001b[0mcursor\u001b[0m\u001b[0;34m,\u001b[0m \u001b[0mstatement\u001b[0m\u001b[0;34m,\u001b[0m \u001b[0mparameters\u001b[0m\u001b[0;34m,\u001b[0m \u001b[0mcontext\u001b[0m\u001b[0;34m\u001b[0m\u001b[0;34m\u001b[0m\u001b[0m\n\u001b[0m\u001b[1;32m   1278\u001b[0m                     )\n",
            "\u001b[0;32m/usr/local/lib/python3.6/dist-packages/sqlalchemy/engine/default.py\u001b[0m in \u001b[0;36mdo_execute\u001b[0;34m(self, cursor, statement, parameters, context)\u001b[0m\n\u001b[1;32m    592\u001b[0m     \u001b[0;32mdef\u001b[0m \u001b[0mdo_execute\u001b[0m\u001b[0;34m(\u001b[0m\u001b[0mself\u001b[0m\u001b[0;34m,\u001b[0m \u001b[0mcursor\u001b[0m\u001b[0;34m,\u001b[0m \u001b[0mstatement\u001b[0m\u001b[0;34m,\u001b[0m \u001b[0mparameters\u001b[0m\u001b[0;34m,\u001b[0m \u001b[0mcontext\u001b[0m\u001b[0;34m=\u001b[0m\u001b[0;32mNone\u001b[0m\u001b[0;34m)\u001b[0m\u001b[0;34m:\u001b[0m\u001b[0;34m\u001b[0m\u001b[0;34m\u001b[0m\u001b[0m\n\u001b[0;32m--> 593\u001b[0;31m         \u001b[0mcursor\u001b[0m\u001b[0;34m.\u001b[0m\u001b[0mexecute\u001b[0m\u001b[0;34m(\u001b[0m\u001b[0mstatement\u001b[0m\u001b[0;34m,\u001b[0m \u001b[0mparameters\u001b[0m\u001b[0;34m)\u001b[0m\u001b[0;34m\u001b[0m\u001b[0;34m\u001b[0m\u001b[0m\n\u001b[0m\u001b[1;32m    594\u001b[0m \u001b[0;34m\u001b[0m\u001b[0m\n",
            "\u001b[0;31mIntegrityError\u001b[0m: UNIQUE constraint failed: Paymentmethods.PaymentMethod",
            "\nThe above exception was the direct cause of the following exception:\n",
            "\u001b[0;31mIntegrityError\u001b[0m                            Traceback (most recent call last)",
            "\u001b[0;32m<ipython-input-56-09f4caad0912>\u001b[0m in \u001b[0;36m<module>\u001b[0;34m()\u001b[0m\n\u001b[0;32m----> 1\u001b[0;31m \u001b[0mget_ipython\u001b[0m\u001b[0;34m(\u001b[0m\u001b[0;34m)\u001b[0m\u001b[0;34m.\u001b[0m\u001b[0mrun_cell_magic\u001b[0m\u001b[0;34m(\u001b[0m\u001b[0;34m'sql'\u001b[0m\u001b[0;34m,\u001b[0m \u001b[0;34m''\u001b[0m\u001b[0;34m,\u001b[0m \u001b[0;34m\"INSERT INTO Paymentmethods VALUES('Card',8,'476','01','10');\\nINSERT INTO Paymentmethods VALUES('Cash',45,'477','02','11');\\nINSERT INTO Paymentmethods VALUES('Card',100,'478','03','12');\\nINSERT INTO Paymentmethods VALUES('Card',32,'479','04','13');\\nINSERT INTO Paymentmethods VALUES('Cash',2,'480','05','14');\"\u001b[0m\u001b[0;34m)\u001b[0m\u001b[0;34m\u001b[0m\u001b[0;34m\u001b[0m\u001b[0m\n\u001b[0m",
            "\u001b[0;32m/usr/local/lib/python3.6/dist-packages/IPython/core/interactiveshell.py\u001b[0m in \u001b[0;36mrun_cell_magic\u001b[0;34m(self, magic_name, line, cell)\u001b[0m\n\u001b[1;32m   2115\u001b[0m             \u001b[0mmagic_arg_s\u001b[0m \u001b[0;34m=\u001b[0m \u001b[0mself\u001b[0m\u001b[0;34m.\u001b[0m\u001b[0mvar_expand\u001b[0m\u001b[0;34m(\u001b[0m\u001b[0mline\u001b[0m\u001b[0;34m,\u001b[0m \u001b[0mstack_depth\u001b[0m\u001b[0;34m)\u001b[0m\u001b[0;34m\u001b[0m\u001b[0;34m\u001b[0m\u001b[0m\n\u001b[1;32m   2116\u001b[0m             \u001b[0;32mwith\u001b[0m \u001b[0mself\u001b[0m\u001b[0;34m.\u001b[0m\u001b[0mbuiltin_trap\u001b[0m\u001b[0;34m:\u001b[0m\u001b[0;34m\u001b[0m\u001b[0;34m\u001b[0m\u001b[0m\n\u001b[0;32m-> 2117\u001b[0;31m                 \u001b[0mresult\u001b[0m \u001b[0;34m=\u001b[0m \u001b[0mfn\u001b[0m\u001b[0;34m(\u001b[0m\u001b[0mmagic_arg_s\u001b[0m\u001b[0;34m,\u001b[0m \u001b[0mcell\u001b[0m\u001b[0;34m)\u001b[0m\u001b[0;34m\u001b[0m\u001b[0;34m\u001b[0m\u001b[0m\n\u001b[0m\u001b[1;32m   2118\u001b[0m             \u001b[0;32mreturn\u001b[0m \u001b[0mresult\u001b[0m\u001b[0;34m\u001b[0m\u001b[0;34m\u001b[0m\u001b[0m\n\u001b[1;32m   2119\u001b[0m \u001b[0;34m\u001b[0m\u001b[0m\n",
            "\u001b[0;32m<decorator-gen-125>\u001b[0m in \u001b[0;36mexecute\u001b[0;34m(self, line, cell, local_ns)\u001b[0m\n",
            "\u001b[0;32m/usr/local/lib/python3.6/dist-packages/IPython/core/magic.py\u001b[0m in \u001b[0;36m<lambda>\u001b[0;34m(f, *a, **k)\u001b[0m\n\u001b[1;32m    186\u001b[0m     \u001b[0;31m# but it's overkill for just that one bit of state.\u001b[0m\u001b[0;34m\u001b[0m\u001b[0;34m\u001b[0m\u001b[0;34m\u001b[0m\u001b[0m\n\u001b[1;32m    187\u001b[0m     \u001b[0;32mdef\u001b[0m \u001b[0mmagic_deco\u001b[0m\u001b[0;34m(\u001b[0m\u001b[0marg\u001b[0m\u001b[0;34m)\u001b[0m\u001b[0;34m:\u001b[0m\u001b[0;34m\u001b[0m\u001b[0;34m\u001b[0m\u001b[0m\n\u001b[0;32m--> 188\u001b[0;31m         \u001b[0mcall\u001b[0m \u001b[0;34m=\u001b[0m \u001b[0;32mlambda\u001b[0m \u001b[0mf\u001b[0m\u001b[0;34m,\u001b[0m \u001b[0;34m*\u001b[0m\u001b[0ma\u001b[0m\u001b[0;34m,\u001b[0m \u001b[0;34m**\u001b[0m\u001b[0mk\u001b[0m\u001b[0;34m:\u001b[0m \u001b[0mf\u001b[0m\u001b[0;34m(\u001b[0m\u001b[0;34m*\u001b[0m\u001b[0ma\u001b[0m\u001b[0;34m,\u001b[0m \u001b[0;34m**\u001b[0m\u001b[0mk\u001b[0m\u001b[0;34m)\u001b[0m\u001b[0;34m\u001b[0m\u001b[0;34m\u001b[0m\u001b[0m\n\u001b[0m\u001b[1;32m    189\u001b[0m \u001b[0;34m\u001b[0m\u001b[0m\n\u001b[1;32m    190\u001b[0m         \u001b[0;32mif\u001b[0m \u001b[0mcallable\u001b[0m\u001b[0;34m(\u001b[0m\u001b[0marg\u001b[0m\u001b[0;34m)\u001b[0m\u001b[0;34m:\u001b[0m\u001b[0;34m\u001b[0m\u001b[0;34m\u001b[0m\u001b[0m\n",
            "\u001b[0;32m<decorator-gen-124>\u001b[0m in \u001b[0;36mexecute\u001b[0;34m(self, line, cell, local_ns)\u001b[0m\n",
            "\u001b[0;32m/usr/local/lib/python3.6/dist-packages/IPython/core/magic.py\u001b[0m in \u001b[0;36m<lambda>\u001b[0;34m(f, *a, **k)\u001b[0m\n\u001b[1;32m    186\u001b[0m     \u001b[0;31m# but it's overkill for just that one bit of state.\u001b[0m\u001b[0;34m\u001b[0m\u001b[0;34m\u001b[0m\u001b[0;34m\u001b[0m\u001b[0m\n\u001b[1;32m    187\u001b[0m     \u001b[0;32mdef\u001b[0m \u001b[0mmagic_deco\u001b[0m\u001b[0;34m(\u001b[0m\u001b[0marg\u001b[0m\u001b[0;34m)\u001b[0m\u001b[0;34m:\u001b[0m\u001b[0;34m\u001b[0m\u001b[0;34m\u001b[0m\u001b[0m\n\u001b[0;32m--> 188\u001b[0;31m         \u001b[0mcall\u001b[0m \u001b[0;34m=\u001b[0m \u001b[0;32mlambda\u001b[0m \u001b[0mf\u001b[0m\u001b[0;34m,\u001b[0m \u001b[0;34m*\u001b[0m\u001b[0ma\u001b[0m\u001b[0;34m,\u001b[0m \u001b[0;34m**\u001b[0m\u001b[0mk\u001b[0m\u001b[0;34m:\u001b[0m \u001b[0mf\u001b[0m\u001b[0;34m(\u001b[0m\u001b[0;34m*\u001b[0m\u001b[0ma\u001b[0m\u001b[0;34m,\u001b[0m \u001b[0;34m**\u001b[0m\u001b[0mk\u001b[0m\u001b[0;34m)\u001b[0m\u001b[0;34m\u001b[0m\u001b[0;34m\u001b[0m\u001b[0m\n\u001b[0m\u001b[1;32m    189\u001b[0m \u001b[0;34m\u001b[0m\u001b[0m\n\u001b[1;32m    190\u001b[0m         \u001b[0;32mif\u001b[0m \u001b[0mcallable\u001b[0m\u001b[0;34m(\u001b[0m\u001b[0marg\u001b[0m\u001b[0;34m)\u001b[0m\u001b[0;34m:\u001b[0m\u001b[0;34m\u001b[0m\u001b[0;34m\u001b[0m\u001b[0m\n",
            "\u001b[0;32m/usr/local/lib/python3.6/dist-packages/sql/magic.py\u001b[0m in \u001b[0;36mexecute\u001b[0;34m(self, line, cell, local_ns)\u001b[0m\n\u001b[1;32m     93\u001b[0m \u001b[0;34m\u001b[0m\u001b[0m\n\u001b[1;32m     94\u001b[0m         \u001b[0;32mtry\u001b[0m\u001b[0;34m:\u001b[0m\u001b[0;34m\u001b[0m\u001b[0;34m\u001b[0m\u001b[0m\n\u001b[0;32m---> 95\u001b[0;31m             \u001b[0mresult\u001b[0m \u001b[0;34m=\u001b[0m \u001b[0msql\u001b[0m\u001b[0;34m.\u001b[0m\u001b[0mrun\u001b[0m\u001b[0;34m.\u001b[0m\u001b[0mrun\u001b[0m\u001b[0;34m(\u001b[0m\u001b[0mconn\u001b[0m\u001b[0;34m,\u001b[0m \u001b[0mparsed\u001b[0m\u001b[0;34m[\u001b[0m\u001b[0;34m'sql'\u001b[0m\u001b[0;34m]\u001b[0m\u001b[0;34m,\u001b[0m \u001b[0mself\u001b[0m\u001b[0;34m,\u001b[0m \u001b[0muser_ns\u001b[0m\u001b[0;34m)\u001b[0m\u001b[0;34m\u001b[0m\u001b[0;34m\u001b[0m\u001b[0m\n\u001b[0m\u001b[1;32m     96\u001b[0m \u001b[0;34m\u001b[0m\u001b[0m\n\u001b[1;32m     97\u001b[0m             \u001b[0;32mif\u001b[0m \u001b[0mresult\u001b[0m \u001b[0;32mis\u001b[0m \u001b[0;32mnot\u001b[0m \u001b[0;32mNone\u001b[0m \u001b[0;32mand\u001b[0m \u001b[0;32mnot\u001b[0m \u001b[0misinstance\u001b[0m\u001b[0;34m(\u001b[0m\u001b[0mresult\u001b[0m\u001b[0;34m,\u001b[0m \u001b[0mstr\u001b[0m\u001b[0;34m)\u001b[0m \u001b[0;32mand\u001b[0m \u001b[0mself\u001b[0m\u001b[0;34m.\u001b[0m\u001b[0mcolumn_local_vars\u001b[0m\u001b[0;34m:\u001b[0m\u001b[0;34m\u001b[0m\u001b[0;34m\u001b[0m\u001b[0m\n",
            "\u001b[0;32m/usr/local/lib/python3.6/dist-packages/sql/run.py\u001b[0m in \u001b[0;36mrun\u001b[0;34m(conn, sql, config, user_namespace)\u001b[0m\n\u001b[1;32m    338\u001b[0m             \u001b[0;32melse\u001b[0m\u001b[0;34m:\u001b[0m\u001b[0;34m\u001b[0m\u001b[0;34m\u001b[0m\u001b[0m\n\u001b[1;32m    339\u001b[0m                 \u001b[0mtxt\u001b[0m \u001b[0;34m=\u001b[0m \u001b[0msqlalchemy\u001b[0m\u001b[0;34m.\u001b[0m\u001b[0msql\u001b[0m\u001b[0;34m.\u001b[0m\u001b[0mtext\u001b[0m\u001b[0;34m(\u001b[0m\u001b[0mstatement\u001b[0m\u001b[0;34m)\u001b[0m\u001b[0;34m\u001b[0m\u001b[0;34m\u001b[0m\u001b[0m\n\u001b[0;32m--> 340\u001b[0;31m                 \u001b[0mresult\u001b[0m \u001b[0;34m=\u001b[0m \u001b[0mconn\u001b[0m\u001b[0;34m.\u001b[0m\u001b[0msession\u001b[0m\u001b[0;34m.\u001b[0m\u001b[0mexecute\u001b[0m\u001b[0;34m(\u001b[0m\u001b[0mtxt\u001b[0m\u001b[0;34m,\u001b[0m \u001b[0muser_namespace\u001b[0m\u001b[0;34m)\u001b[0m\u001b[0;34m\u001b[0m\u001b[0;34m\u001b[0m\u001b[0m\n\u001b[0m\u001b[1;32m    341\u001b[0m             \u001b[0m_commit\u001b[0m\u001b[0;34m(\u001b[0m\u001b[0mconn\u001b[0m\u001b[0;34m=\u001b[0m\u001b[0mconn\u001b[0m\u001b[0;34m,\u001b[0m \u001b[0mconfig\u001b[0m\u001b[0;34m=\u001b[0m\u001b[0mconfig\u001b[0m\u001b[0;34m)\u001b[0m\u001b[0;34m\u001b[0m\u001b[0;34m\u001b[0m\u001b[0m\n\u001b[1;32m    342\u001b[0m             \u001b[0;32mif\u001b[0m \u001b[0mresult\u001b[0m \u001b[0;32mand\u001b[0m \u001b[0mconfig\u001b[0m\u001b[0;34m.\u001b[0m\u001b[0mfeedback\u001b[0m\u001b[0;34m:\u001b[0m\u001b[0;34m\u001b[0m\u001b[0;34m\u001b[0m\u001b[0m\n",
            "\u001b[0;32m/usr/local/lib/python3.6/dist-packages/sqlalchemy/engine/base.py\u001b[0m in \u001b[0;36mexecute\u001b[0;34m(self, object_, *multiparams, **params)\u001b[0m\n\u001b[1;32m   1009\u001b[0m             )\n\u001b[1;32m   1010\u001b[0m         \u001b[0;32melse\u001b[0m\u001b[0;34m:\u001b[0m\u001b[0;34m\u001b[0m\u001b[0;34m\u001b[0m\u001b[0m\n\u001b[0;32m-> 1011\u001b[0;31m             \u001b[0;32mreturn\u001b[0m \u001b[0mmeth\u001b[0m\u001b[0;34m(\u001b[0m\u001b[0mself\u001b[0m\u001b[0;34m,\u001b[0m \u001b[0mmultiparams\u001b[0m\u001b[0;34m,\u001b[0m \u001b[0mparams\u001b[0m\u001b[0;34m)\u001b[0m\u001b[0;34m\u001b[0m\u001b[0;34m\u001b[0m\u001b[0m\n\u001b[0m\u001b[1;32m   1012\u001b[0m \u001b[0;34m\u001b[0m\u001b[0m\n\u001b[1;32m   1013\u001b[0m     \u001b[0;32mdef\u001b[0m \u001b[0m_execute_function\u001b[0m\u001b[0;34m(\u001b[0m\u001b[0mself\u001b[0m\u001b[0;34m,\u001b[0m \u001b[0mfunc\u001b[0m\u001b[0;34m,\u001b[0m \u001b[0mmultiparams\u001b[0m\u001b[0;34m,\u001b[0m \u001b[0mparams\u001b[0m\u001b[0;34m)\u001b[0m\u001b[0;34m:\u001b[0m\u001b[0;34m\u001b[0m\u001b[0;34m\u001b[0m\u001b[0m\n",
            "\u001b[0;32m/usr/local/lib/python3.6/dist-packages/sqlalchemy/sql/elements.py\u001b[0m in \u001b[0;36m_execute_on_connection\u001b[0;34m(self, connection, multiparams, params)\u001b[0m\n\u001b[1;32m    296\u001b[0m     \u001b[0;32mdef\u001b[0m \u001b[0m_execute_on_connection\u001b[0m\u001b[0;34m(\u001b[0m\u001b[0mself\u001b[0m\u001b[0;34m,\u001b[0m \u001b[0mconnection\u001b[0m\u001b[0;34m,\u001b[0m \u001b[0mmultiparams\u001b[0m\u001b[0;34m,\u001b[0m \u001b[0mparams\u001b[0m\u001b[0;34m)\u001b[0m\u001b[0;34m:\u001b[0m\u001b[0;34m\u001b[0m\u001b[0;34m\u001b[0m\u001b[0m\n\u001b[1;32m    297\u001b[0m         \u001b[0;32mif\u001b[0m \u001b[0mself\u001b[0m\u001b[0;34m.\u001b[0m\u001b[0msupports_execution\u001b[0m\u001b[0;34m:\u001b[0m\u001b[0;34m\u001b[0m\u001b[0;34m\u001b[0m\u001b[0m\n\u001b[0;32m--> 298\u001b[0;31m             \u001b[0;32mreturn\u001b[0m \u001b[0mconnection\u001b[0m\u001b[0;34m.\u001b[0m\u001b[0m_execute_clauseelement\u001b[0m\u001b[0;34m(\u001b[0m\u001b[0mself\u001b[0m\u001b[0;34m,\u001b[0m \u001b[0mmultiparams\u001b[0m\u001b[0;34m,\u001b[0m \u001b[0mparams\u001b[0m\u001b[0;34m)\u001b[0m\u001b[0;34m\u001b[0m\u001b[0;34m\u001b[0m\u001b[0m\n\u001b[0m\u001b[1;32m    299\u001b[0m         \u001b[0;32melse\u001b[0m\u001b[0;34m:\u001b[0m\u001b[0;34m\u001b[0m\u001b[0;34m\u001b[0m\u001b[0m\n\u001b[1;32m    300\u001b[0m             \u001b[0;32mraise\u001b[0m \u001b[0mexc\u001b[0m\u001b[0;34m.\u001b[0m\u001b[0mObjectNotExecutableError\u001b[0m\u001b[0;34m(\u001b[0m\u001b[0mself\u001b[0m\u001b[0;34m)\u001b[0m\u001b[0;34m\u001b[0m\u001b[0;34m\u001b[0m\u001b[0m\n",
            "\u001b[0;32m/usr/local/lib/python3.6/dist-packages/sqlalchemy/engine/base.py\u001b[0m in \u001b[0;36m_execute_clauseelement\u001b[0;34m(self, elem, multiparams, params)\u001b[0m\n\u001b[1;32m   1128\u001b[0m             \u001b[0mdistilled_params\u001b[0m\u001b[0;34m,\u001b[0m\u001b[0;34m\u001b[0m\u001b[0;34m\u001b[0m\u001b[0m\n\u001b[1;32m   1129\u001b[0m             \u001b[0mcompiled_sql\u001b[0m\u001b[0;34m,\u001b[0m\u001b[0;34m\u001b[0m\u001b[0;34m\u001b[0m\u001b[0m\n\u001b[0;32m-> 1130\u001b[0;31m             \u001b[0mdistilled_params\u001b[0m\u001b[0;34m,\u001b[0m\u001b[0;34m\u001b[0m\u001b[0;34m\u001b[0m\u001b[0m\n\u001b[0m\u001b[1;32m   1131\u001b[0m         )\n\u001b[1;32m   1132\u001b[0m         \u001b[0;32mif\u001b[0m \u001b[0mself\u001b[0m\u001b[0;34m.\u001b[0m\u001b[0m_has_events\u001b[0m \u001b[0;32mor\u001b[0m \u001b[0mself\u001b[0m\u001b[0;34m.\u001b[0m\u001b[0mengine\u001b[0m\u001b[0;34m.\u001b[0m\u001b[0m_has_events\u001b[0m\u001b[0;34m:\u001b[0m\u001b[0;34m\u001b[0m\u001b[0;34m\u001b[0m\u001b[0m\n",
            "\u001b[0;32m/usr/local/lib/python3.6/dist-packages/sqlalchemy/engine/base.py\u001b[0m in \u001b[0;36m_execute_context\u001b[0;34m(self, dialect, constructor, statement, parameters, *args)\u001b[0m\n\u001b[1;32m   1315\u001b[0m         \u001b[0;32mexcept\u001b[0m \u001b[0mBaseException\u001b[0m \u001b[0;32mas\u001b[0m \u001b[0me\u001b[0m\u001b[0;34m:\u001b[0m\u001b[0;34m\u001b[0m\u001b[0;34m\u001b[0m\u001b[0m\n\u001b[1;32m   1316\u001b[0m             self._handle_dbapi_exception(\n\u001b[0;32m-> 1317\u001b[0;31m                 \u001b[0me\u001b[0m\u001b[0;34m,\u001b[0m \u001b[0mstatement\u001b[0m\u001b[0;34m,\u001b[0m \u001b[0mparameters\u001b[0m\u001b[0;34m,\u001b[0m \u001b[0mcursor\u001b[0m\u001b[0;34m,\u001b[0m \u001b[0mcontext\u001b[0m\u001b[0;34m\u001b[0m\u001b[0;34m\u001b[0m\u001b[0m\n\u001b[0m\u001b[1;32m   1318\u001b[0m             )\n\u001b[1;32m   1319\u001b[0m \u001b[0;34m\u001b[0m\u001b[0m\n",
            "\u001b[0;32m/usr/local/lib/python3.6/dist-packages/sqlalchemy/engine/base.py\u001b[0m in \u001b[0;36m_handle_dbapi_exception\u001b[0;34m(self, e, statement, parameters, cursor, context)\u001b[0m\n\u001b[1;32m   1509\u001b[0m             \u001b[0;32melif\u001b[0m \u001b[0mshould_wrap\u001b[0m\u001b[0;34m:\u001b[0m\u001b[0;34m\u001b[0m\u001b[0;34m\u001b[0m\u001b[0m\n\u001b[1;32m   1510\u001b[0m                 util.raise_(\n\u001b[0;32m-> 1511\u001b[0;31m                     \u001b[0msqlalchemy_exception\u001b[0m\u001b[0;34m,\u001b[0m \u001b[0mwith_traceback\u001b[0m\u001b[0;34m=\u001b[0m\u001b[0mexc_info\u001b[0m\u001b[0;34m[\u001b[0m\u001b[0;36m2\u001b[0m\u001b[0;34m]\u001b[0m\u001b[0;34m,\u001b[0m \u001b[0mfrom_\u001b[0m\u001b[0;34m=\u001b[0m\u001b[0me\u001b[0m\u001b[0;34m\u001b[0m\u001b[0;34m\u001b[0m\u001b[0m\n\u001b[0m\u001b[1;32m   1512\u001b[0m                 )\n\u001b[1;32m   1513\u001b[0m             \u001b[0;32melse\u001b[0m\u001b[0;34m:\u001b[0m\u001b[0;34m\u001b[0m\u001b[0;34m\u001b[0m\u001b[0m\n",
            "\u001b[0;32m/usr/local/lib/python3.6/dist-packages/sqlalchemy/util/compat.py\u001b[0m in \u001b[0;36mraise_\u001b[0;34m(***failed resolving arguments***)\u001b[0m\n\u001b[1;32m    180\u001b[0m \u001b[0;34m\u001b[0m\u001b[0m\n\u001b[1;32m    181\u001b[0m         \u001b[0;32mtry\u001b[0m\u001b[0;34m:\u001b[0m\u001b[0;34m\u001b[0m\u001b[0;34m\u001b[0m\u001b[0m\n\u001b[0;32m--> 182\u001b[0;31m             \u001b[0;32mraise\u001b[0m \u001b[0mexception\u001b[0m\u001b[0;34m\u001b[0m\u001b[0;34m\u001b[0m\u001b[0m\n\u001b[0m\u001b[1;32m    183\u001b[0m         \u001b[0;32mfinally\u001b[0m\u001b[0;34m:\u001b[0m\u001b[0;34m\u001b[0m\u001b[0;34m\u001b[0m\u001b[0m\n\u001b[1;32m    184\u001b[0m             \u001b[0;31m# credit to\u001b[0m\u001b[0;34m\u001b[0m\u001b[0;34m\u001b[0m\u001b[0;34m\u001b[0m\u001b[0m\n",
            "\u001b[0;32m/usr/local/lib/python3.6/dist-packages/sqlalchemy/engine/base.py\u001b[0m in \u001b[0;36m_execute_context\u001b[0;34m(self, dialect, constructor, statement, parameters, *args)\u001b[0m\n\u001b[1;32m   1275\u001b[0m                 \u001b[0;32mif\u001b[0m \u001b[0;32mnot\u001b[0m \u001b[0mevt_handled\u001b[0m\u001b[0;34m:\u001b[0m\u001b[0;34m\u001b[0m\u001b[0;34m\u001b[0m\u001b[0m\n\u001b[1;32m   1276\u001b[0m                     self.dialect.do_execute(\n\u001b[0;32m-> 1277\u001b[0;31m                         \u001b[0mcursor\u001b[0m\u001b[0;34m,\u001b[0m \u001b[0mstatement\u001b[0m\u001b[0;34m,\u001b[0m \u001b[0mparameters\u001b[0m\u001b[0;34m,\u001b[0m \u001b[0mcontext\u001b[0m\u001b[0;34m\u001b[0m\u001b[0;34m\u001b[0m\u001b[0m\n\u001b[0m\u001b[1;32m   1278\u001b[0m                     )\n\u001b[1;32m   1279\u001b[0m \u001b[0;34m\u001b[0m\u001b[0m\n",
            "\u001b[0;32m/usr/local/lib/python3.6/dist-packages/sqlalchemy/engine/default.py\u001b[0m in \u001b[0;36mdo_execute\u001b[0;34m(self, cursor, statement, parameters, context)\u001b[0m\n\u001b[1;32m    591\u001b[0m \u001b[0;34m\u001b[0m\u001b[0m\n\u001b[1;32m    592\u001b[0m     \u001b[0;32mdef\u001b[0m \u001b[0mdo_execute\u001b[0m\u001b[0;34m(\u001b[0m\u001b[0mself\u001b[0m\u001b[0;34m,\u001b[0m \u001b[0mcursor\u001b[0m\u001b[0;34m,\u001b[0m \u001b[0mstatement\u001b[0m\u001b[0;34m,\u001b[0m \u001b[0mparameters\u001b[0m\u001b[0;34m,\u001b[0m \u001b[0mcontext\u001b[0m\u001b[0;34m=\u001b[0m\u001b[0;32mNone\u001b[0m\u001b[0;34m)\u001b[0m\u001b[0;34m:\u001b[0m\u001b[0;34m\u001b[0m\u001b[0;34m\u001b[0m\u001b[0m\n\u001b[0;32m--> 593\u001b[0;31m         \u001b[0mcursor\u001b[0m\u001b[0;34m.\u001b[0m\u001b[0mexecute\u001b[0m\u001b[0;34m(\u001b[0m\u001b[0mstatement\u001b[0m\u001b[0;34m,\u001b[0m \u001b[0mparameters\u001b[0m\u001b[0;34m)\u001b[0m\u001b[0;34m\u001b[0m\u001b[0;34m\u001b[0m\u001b[0m\n\u001b[0m\u001b[1;32m    594\u001b[0m \u001b[0;34m\u001b[0m\u001b[0m\n\u001b[1;32m    595\u001b[0m     \u001b[0;32mdef\u001b[0m \u001b[0mdo_execute_no_params\u001b[0m\u001b[0;34m(\u001b[0m\u001b[0mself\u001b[0m\u001b[0;34m,\u001b[0m \u001b[0mcursor\u001b[0m\u001b[0;34m,\u001b[0m \u001b[0mstatement\u001b[0m\u001b[0;34m,\u001b[0m \u001b[0mcontext\u001b[0m\u001b[0;34m=\u001b[0m\u001b[0;32mNone\u001b[0m\u001b[0;34m)\u001b[0m\u001b[0;34m:\u001b[0m\u001b[0;34m\u001b[0m\u001b[0;34m\u001b[0m\u001b[0m\n",
            "\u001b[0;31mIntegrityError\u001b[0m: (sqlite3.IntegrityError) UNIQUE constraint failed: Paymentmethods.PaymentMethod\n[SQL: INSERT INTO Paymentmethods VALUES('Card',100,'478','03','12');]\n(Background on this error at: http://sqlalche.me/e/13/gkpj)"
          ]
        }
      ]
    },
    {
      "cell_type": "markdown",
      "metadata": {
        "id": "d6MQfH_ySlhI"
      },
      "source": [
        "1.What Foods are over 4?\n",
        "The reason we asked the question what foods are over $4 is because we wanted to test the database to see if it was able to pick out the foods that were higher in price. Based on our results it worked and it showed us the three foods that were priced over 4.\n"
      ]
    },
    {
      "cell_type": "code",
      "metadata": {
        "colab": {
          "base_uri": "https://localhost:8080/",
          "height": 137
        },
        "id": "Vk7eFRKAPBIo",
        "outputId": "29849b41-9566-4e1c-e000-67cd56c4b9d8"
      },
      "source": [
        "%%sql\n",
        "SELECT (Foodtype) from FOOD WHERE price Between 4 and 8"
      ],
      "execution_count": null,
      "outputs": [
        {
          "output_type": "stream",
          "text": [
            " * sqlite:///restaurantDatabase.db\n",
            "Done.\n"
          ],
          "name": "stdout"
        },
        {
          "output_type": "execute_result",
          "data": {
            "text/html": [
              "<table>\n",
              "    <tr>\n",
              "        <th>Foodtype</th>\n",
              "    </tr>\n",
              "    <tr>\n",
              "        <td>Wings</td>\n",
              "    </tr>\n",
              "    <tr>\n",
              "        <td>Macaroni</td>\n",
              "    </tr>\n",
              "    <tr>\n",
              "        <td>Cheese Burger</td>\n",
              "    </tr>\n",
              "</table>"
            ],
            "text/plain": [
              "[('Wings',), ('Macaroni',), ('Cheese Burger',)]"
            ]
          },
          "metadata": {
            "tags": []
          },
          "execution_count": 27
        }
      ]
    },
    {
      "cell_type": "markdown",
      "metadata": {
        "id": "_PR_ewPzWHC2"
      },
      "source": [
        "2.) How many people are using the delivery service \"GrubHub\"?\n",
        "\n",
        "The reason we asked the question “How many people are using the delivery service \"GrubHub\" was to see how many people were using this delivery service compared to others. Our results show that only one person out of 5 used it and that it was not the most common one .\n"
      ]
    },
    {
      "cell_type": "code",
      "metadata": {
        "colab": {
          "base_uri": "https://localhost:8080/",
          "height": 95
        },
        "id": "Iq7LvDtGRxv8",
        "outputId": "53953c81-c460-4889-f2be-079f686fc503"
      },
      "source": [
        "%%sql\n",
        "SELECT (CUSTOMERID) from Deliveries Where DeliverySevrice = 'GrubHub'"
      ],
      "execution_count": null,
      "outputs": [
        {
          "output_type": "stream",
          "text": [
            " * sqlite:///restaurantDatabase.db\n",
            "Done.\n"
          ],
          "name": "stdout"
        },
        {
          "output_type": "execute_result",
          "data": {
            "text/html": [
              "<table>\n",
              "    <tr>\n",
              "        <th>CUSTOMERID</th>\n",
              "    </tr>\n",
              "    <tr>\n",
              "        <td>476</td>\n",
              "    </tr>\n",
              "</table>"
            ],
            "text/plain": [
              "[('476',)]"
            ]
          },
          "metadata": {
            "tags": []
          },
          "execution_count": 23
        }
      ]
    },
    {
      "cell_type": "markdown",
      "metadata": {
        "id": "viK84jtSe7M-"
      },
      "source": [
        "3.)How many of the orders placed were between 2:00 and 5:00?\n",
        "\n",
        "The reason we asked the question “How many of the orders placed were between 2:00 and 5:00?” was to see how many orders were placed between those two times. Based on our results we got the answer we were looking for because it showed that there was 3 orders placed between 2:00 and 5:00.\n"
      ]
    },
    {
      "cell_type": "code",
      "metadata": {
        "colab": {
          "base_uri": "https://localhost:8080/",
          "height": 137
        },
        "id": "pYkPLLBCfffM",
        "outputId": "11306b0b-4843-4106-be25-05dd0e4ec3ea"
      },
      "source": [
        "%%sql\n",
        "Select DeliveryTime from Deliveries WHERE DeliveryTime Between '2:00' AND '5:00'"
      ],
      "execution_count": null,
      "outputs": [
        {
          "output_type": "stream",
          "text": [
            " * sqlite:///restaurantDatabase.db\n",
            "Done.\n"
          ],
          "name": "stdout"
        },
        {
          "output_type": "execute_result",
          "data": {
            "text/html": [
              "<table>\n",
              "    <tr>\n",
              "        <th>DeliveryTime</th>\n",
              "    </tr>\n",
              "    <tr>\n",
              "        <td>3:30</td>\n",
              "    </tr>\n",
              "    <tr>\n",
              "        <td>3:00</td>\n",
              "    </tr>\n",
              "    <tr>\n",
              "        <td>2:00</td>\n",
              "    </tr>\n",
              "</table>"
            ],
            "text/plain": [
              "[('3:30',), ('3:00',), ('2:00',)]"
            ]
          },
          "metadata": {
            "tags": []
          },
          "execution_count": 47
        }
      ]
    },
    {
      "cell_type": "markdown",
      "metadata": {
        "id": "oIya-nfYnJ4Z"
      },
      "source": [
        "![Group assignment 2 (1) for sql.png](data:image/png;base64,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)"
      ]
    }
  ]
}